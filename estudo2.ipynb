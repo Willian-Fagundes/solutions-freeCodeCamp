{
 "cells": [
  {
   "cell_type": "code",
   "execution_count": 55,
   "metadata": {},
   "outputs": [
    {
     "name": "stdout",
     "output_type": "stream",
     "text": [
      "32 \n",
      "+ 698\n",
      "-----\n",
      "\n",
      "None\n"
     ]
    }
   ],
   "source": [
    "def arithmetic_arranger(problems, show_answers=False):\n",
    "    for i in range(len(problems)):\n",
    "        operations = problems[i]\n",
    "        if '+' in operations or '-' in operations:\n",
    "            for i in operations:\n",
    "                if i == '+' or i == '-':\n",
    "                    operador = i\n",
    "                    index = operations.index(operador)\n",
    "                    left_side = operations[:index]\n",
    "                    right_side = operations[index:]\n",
    "                    if len(left_side) > len(right_side):\n",
    "                        traces = len(left_side) + 1\n",
    "                    else:\n",
    "                        traces = len(right_side)\n",
    "\n",
    "\n",
    "            \n",
    "                        print(left_side)\n",
    "                        print(right_side)\n",
    "                        print('-'*traces)\n",
    "        return\n",
    "\n",
    "print(f'\\n{arithmetic_arranger([\"32 + 698\", \"3801 - 2\", \"45 + 43\", \"123 + 49\"])}')"
   ]
  },
  {
   "cell_type": "code",
   "execution_count": 65,
   "metadata": {},
   "outputs": [
    {
     "name": "stdout",
     "output_type": "stream",
     "text": [
      " 32 \n",
      "+ 698  3801 \n",
      "- 2  45 \n",
      "+ 43  123 \n",
      "+ 49 \n",
      "None\n"
     ]
    }
   ],
   "source": [
    "def arithmetic_arranger(problems, show_answers=False):\n",
    "    for i in range(len(problems)):\n",
    "        problem = problems[i]\n",
    "        if '+' in problem:\n",
    "            operador = '+'\n",
    "        elif '-' in problem:\n",
    "            operador = '-'\n",
    "\n",
    "        index = problem.index(operador)\n",
    "        first_line = problem[:index]\n",
    "        second_line = problem[index:]\n",
    "        \n",
    "        print(f\" {first_line}\\n{second_line:}\", end=' ')\n",
    "\n",
    "\n",
    "\n",
    "\n",
    "    \n",
    "\n",
    "print(f'\\n{arithmetic_arranger([\"32 + 698\", \"3801 - 2\", \"45 + 43\", \"123 + 49\"])}')"
   ]
  },
  {
   "cell_type": "code",
   "execution_count": 66,
   "metadata": {},
   "outputs": [
    {
     "name": "stdout",
     "output_type": "stream",
     "text": [
      "|       |  32  | 3801 |  45  |  123  |\n",
      "|-------|-------|-------|-------|-------|\n",
      "| + 698 | 730 | 3799 | 88 | 172 |\n"
     ]
    }
   ],
   "source": [
    "# Lista original\n",
    "calculos = [\"32 + 698\", \"3801 - 2\", \"45 + 43\", \"123 + 49\"]\n",
    "\n",
    "# Separar e calcular\n",
    "resultados = []\n",
    "for calc in calculos:\n",
    "    partes = calc.split()\n",
    "    num1 = int(partes[0])\n",
    "    operador = partes[1]\n",
    "    num2 = int(partes[2])\n",
    "    if operador == '+':\n",
    "        resultado = num1 + num2\n",
    "    elif operador == '-':\n",
    "        resultado = num1 - num2\n",
    "    resultados.append(f\"{num1} {operador} {num2} = {resultado}\")\n",
    "\n",
    "# Exibir a tabela formatada\n",
    "print(\"|       |  32  | 3801 |  45  |  123  |\")\n",
    "print(\"|-------|-------|-------|-------|-------|\")\n",
    "print(f\"| + 698 | {resultados[0].split('=')[1].strip()} | {resultados[1].split('=')[1].strip()} | {resultados[2].split('=')[1].strip()} | {resultados[3].split('=')[1].strip()} |\")"
   ]
  }
 ],
 "metadata": {
  "kernelspec": {
   "display_name": "Python 3",
   "language": "python",
   "name": "python3"
  },
  "language_info": {
   "codemirror_mode": {
    "name": "ipython",
    "version": 3
   },
   "file_extension": ".py",
   "mimetype": "text/x-python",
   "name": "python",
   "nbconvert_exporter": "python",
   "pygments_lexer": "ipython3",
   "version": "3.9.6"
  }
 },
 "nbformat": 4,
 "nbformat_minor": 2
}
